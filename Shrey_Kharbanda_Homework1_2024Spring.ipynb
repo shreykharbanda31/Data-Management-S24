{
  "cells": [
    {
      "cell_type": "markdown",
      "id": "d4b30926",
      "metadata": {
        "id": "d4b30926"
      },
      "source": [
        "## Requirement of Submission\n",
        "1. Please directly write your code in this file and submit your `.ipynb` file to Brightspace. Do NOT accept `.py` files.\n",
        "2. NO extended deadline.\n",
        "3. Please check your answers before the submission."
      ]
    },
    {
      "cell_type": "markdown",
      "id": "1151cdd7",
      "metadata": {
        "id": "1151cdd7"
      },
      "source": [
        "# Homework 1"
      ]
    },
    {
      "cell_type": "markdown",
      "id": "bbcfc6f7",
      "metadata": {
        "id": "bbcfc6f7"
      },
      "source": [
        "## 1. List\n",
        "Print the element which occurs at least 3 consecutive times in a Python list.\n",
        "\n",
        "Example :\n",
        "\n",
        "Input : [4, 5, 5, 5, 3, 8]\n",
        "\n",
        "Output : 5\n",
        "\n",
        "Input : [1, 1, 1, 64, 23, 64, 22, 22, 22]\n",
        "\n",
        "Output : 1, 22"
      ]
    },
    {
      "cell_type": "code",
      "execution_count": 11,
      "id": "2RQXaeaOpQiS",
      "metadata": {
        "colab": {
          "base_uri": "https://localhost:8080/"
        },
        "id": "2RQXaeaOpQiS",
        "outputId": "5838c2a6-9a29-4799-daf4-441966c586e4"
      },
      "outputs": [
        {
          "name": "stdout",
          "output_type": "stream",
          "text": [
            "5\n",
            "1, 22\n",
            "\n"
          ]
        }
      ],
      "source": [
        "def print_3_consecutive(lst):\n",
        "  i = 0\n",
        "  output = []\n",
        "  while i < len(lst):\n",
        "    if i+2 < len(lst) and lst[i] == lst[i+1] and lst[i+2] == lst[i]:\n",
        "      output.append(str(lst[i]))\n",
        "    while i+1 < len(lst) and lst[i] == lst[i+1]:\n",
        "      i += 1\n",
        "    i += 1\n",
        "  print (', '.join(output))\n",
        "\n",
        "print_3_consecutive([4, 5, 5, 5, 3, 8])\n",
        "print_3_consecutive([1, 1, 1, 64, 23, 64, 22, 22, 22])\n",
        "print_3_consecutive([])"
      ]
    },
    {
      "cell_type": "markdown",
      "id": "ab8a20d6",
      "metadata": {
        "id": "ab8a20d6"
      },
      "source": [
        "## 2. Filter\n",
        "\n",
        "Write a Python program that filters out prime numbers from a list of integers using the filter function."
      ]
    },
    {
      "cell_type": "code",
      "execution_count": 16,
      "id": "L3WjuqyTqbxi",
      "metadata": {
        "colab": {
          "base_uri": "https://localhost:8080/"
        },
        "id": "L3WjuqyTqbxi",
        "outputId": "d6fcc363-dd2c-44af-afe8-4a5f2e1650af"
      },
      "outputs": [
        {
          "name": "stdout",
          "output_type": "stream",
          "text": [
            "[2, 3, 5, 7, 11, 13, 17, 19, 23, 29, 31, 37, 41, 43, 47, 53, 59, 61, 67, 71, 73, 79, 83, 89, 97]\n"
          ]
        }
      ],
      "source": [
        "l = list(range(1,100))\n",
        "\n",
        "def is_prime(n):\n",
        "  if n == 0 or n == 1:\n",
        "    return False\n",
        "  if n>0 and n < 4:\n",
        "    return True\n",
        "  for i in range(2,n):\n",
        "    if n%i == 0:\n",
        "      return False\n",
        "  return True\n",
        "\n",
        "prime_list = list(filter(lambda x: is_prime(x), l))\n",
        "\n",
        "print(prime_list)"
      ]
    },
    {
      "cell_type": "markdown",
      "id": "9e2d3528",
      "metadata": {
        "id": "9e2d3528"
      },
      "source": [
        "## 3. Lambda\n",
        "Given a list, please sort the list according to the column using the lambda approach.\n",
        "\n",
        "Examples:\n",
        "\n",
        "Input : array = [[1, 3, 3], [2, 1, 2], [3, 2, 1]]\n",
        "\n",
        "Output :\n",
        "* Sorted array specific to column 0, [[1, 3, 3], [2, 1, 2], [3, 2, 1]]\n",
        "* Sorted array specific to column 1, [[2, 1, 2], [3, 2, 1], [1, 3, 3]]\n",
        "* Sorted array specific to column 2, [[3, 2, 1], [2, 1, 2], [1, 3, 3]]\n",
        "\n",
        "Input : array = [[‘java’, 1995], [‘c++’, 1983], [‘python’, 1989]]\n",
        "\n",
        "Output :\n",
        "* Sorted array specific to column 0, [[‘c++’, 1983], [‘java’, 1995], [‘python’, 1989]]\n",
        "* Sorted array specific to column 1, [[‘c++’, 1983], [‘python’, 1989], [‘java’, 1995]]"
      ]
    },
    {
      "cell_type": "code",
      "execution_count": 25,
      "id": "2e07a281",
      "metadata": {
        "colab": {
          "base_uri": "https://localhost:8080/"
        },
        "id": "2e07a281",
        "outputId": "6035946b-8c78-427b-fc46-d1c9bdf8847d"
      },
      "outputs": [
        {
          "data": {
            "text/plain": [
              "[['c++', 1983], ['python', 1989], ['java', 1995]]"
            ]
          },
          "execution_count": 25,
          "metadata": {},
          "output_type": "execute_result"
        }
      ],
      "source": [
        "def print_sorted_elements(array, column):\n",
        "  sort_element = list(sorted(array, key=lambda array : array[column]))\n",
        "  return sort_element\n",
        "\n",
        "array = [['java', 1995], [\"c++\", 1983], [\"python\", 1989]]\n",
        "print_sorted_elements(array, 1)"
      ]
    },
    {
      "cell_type": "markdown",
      "id": "dMMqg05UreBC",
      "metadata": {
        "id": "dMMqg05UreBC"
      },
      "source": [
        "## 4. Dictionary\n",
        "4.1 \\\n",
        "Given a dictionary with key-value pairs, remove all the keys with values greater than Key, not including mixed values.\n",
        "\n",
        "Input : test_dict = {‘Gfg’ : 3, ‘is’ : 7, ‘best’ : 10, ‘for’ : 6, ‘geeks’ : ‘CS’}, Key = 7\n",
        "\n",
        "Output : {‘Gfg’ : 3, ‘for’ : 6, ‘geeks’ : ‘CS’}\n",
        "\n",
        "Explanation : All values greater than K are removed. Mixed value is retained.\n",
        "\n",
        "Input : test_dict = {‘Gfg’ : 3, ‘is’ : 7, ‘best’ : 10, ‘for’ : 6, ‘geeks’ : ‘CS’}, Key = 1\n",
        "\n",
        "Output : {‘geeks’ : ‘CS’}\n",
        "\n",
        "Explanation : Only Mixed value is retained."
      ]
    },
    {
      "cell_type": "code",
      "execution_count": 29,
      "id": "sEiW-saHsKE4",
      "metadata": {
        "colab": {
          "base_uri": "https://localhost:8080/"
        },
        "id": "sEiW-saHsKE4",
        "outputId": "38141c97-fe74-4aa2-f2d6-956e336f6ac6"
      },
      "outputs": [
        {
          "data": {
            "text/plain": [
              "{'geeks': 'CS'}"
            ]
          },
          "execution_count": 29,
          "metadata": {},
          "output_type": "execute_result"
        }
      ],
      "source": [
        "def remove_greater_than_key(pairs, key):\n",
        "  output = pairs.copy()\n",
        "  for k, value in pairs.items():\n",
        "    if isinstance(value, int) and value >= key:\n",
        "      del output[k]\n",
        "  return output\n",
        "\n",
        "test_dict = {'Gfg' : 3,'is' : 7, 'best' : 10, 'for' : 6, 'geeks' : 'CS'}\n",
        "Key = 1\n",
        "remove_greater_than_key(test_dict,Key)"
      ]
    },
    {
      "cell_type": "markdown",
      "id": "mM409OmBnsjh",
      "metadata": {
        "id": "mM409OmBnsjh"
      },
      "source": [
        "4.2\\\n",
        "Using dictionary comprehension, create a dictionary where the key is a number divisible by 2 in a range of 0-10, and it's value is the square of the number."
      ]
    },
    {
      "cell_type": "code",
      "execution_count": 30,
      "id": "2HrEmnW7ovpr",
      "metadata": {
        "colab": {
          "base_uri": "https://localhost:8080/"
        },
        "id": "2HrEmnW7ovpr",
        "outputId": "279794da-b4ed-4c8a-81bc-047b4e7889ec"
      },
      "outputs": [
        {
          "data": {
            "text/plain": [
              "{0: 0, 2: 4, 4: 16, 6: 36, 8: 64, 10: 100}"
            ]
          },
          "execution_count": 30,
          "metadata": {},
          "output_type": "execute_result"
        }
      ],
      "source": [
        "def create_squared_dict():\n",
        "  squared_dict = {key:key**2 for key in range(11) if key % 2 == 0}\n",
        "  return squared_dict\n",
        "\n",
        "create_squared_dict()"
      ]
    },
    {
      "cell_type": "markdown",
      "id": "FGK1ciKAt89a",
      "metadata": {
        "id": "FGK1ciKAt89a"
      },
      "source": [
        "## 5. Pattern\n",
        "Given an integer n, write a python program to print diamond using loops and mathematical formulations. The minimum value of n should be greater than 4.\n",
        "\n",
        "For size = 5\n",
        "\n",
        "      * * *   \n",
        "    * * * * *\n",
        "      * * *   \n",
        "        *  \n",
        "\n",
        "For size = 8\n",
        "\n",
        "      * * * * * *   \n",
        "    * * * * * * * *\n",
        "      * * * * * *   \n",
        "        * * * *     \n",
        "          * *       \n",
        "\n",
        "For size = 11\n",
        "\n",
        "      * * * * * * * * *   \n",
        "    * * * * * * * * * * *\n",
        "      * * * * * * * * *   \n",
        "        * * * * * * *     \n",
        "          * * * * *       \n",
        "            * * *         \n",
        "              *           "
      ]
    },
    {
      "cell_type": "code",
      "execution_count": 35,
      "id": "RJqWzK1vvGSi",
      "metadata": {
        "colab": {
          "base_uri": "https://localhost:8080/"
        },
        "id": "RJqWzK1vvGSi",
        "outputId": "8cb1d241-be9e-445a-93e6-1da12adad8a9"
      },
      "outputs": [
        {
          "name": "stdout",
          "output_type": "stream",
          "text": [
            "Value should be greater than 4\n",
            "\n",
            "  * * * * * * *   \n",
            "* * * * * * * * * \n",
            "  * * * * * * *   \n",
            "    * * * * *     \n",
            "      * * *       \n",
            "        *         \n",
            "\n",
            "  * * * * * * * * * * * * * *   \n",
            "* * * * * * * * * * * * * * * * \n",
            "  * * * * * * * * * * * * * *   \n",
            "    * * * * * * * * * * * *     \n",
            "      * * * * * * * * * *       \n",
            "        * * * * * * * *         \n",
            "          * * * * * *           \n",
            "            * * * *             \n",
            "              * *               \n"
          ]
        }
      ],
      "source": [
        "def diamond(n):\n",
        "  if n < 5:\n",
        "    print (\"Value should be greater than 4\")\n",
        "    return\n",
        "  print('  '+ '* '*(n-2) + '  ')\n",
        "  for i in range(n,0,-2):\n",
        "    print(' '*((n-i))+'* '*(i)+' '*((n-i)))\n",
        "\n",
        "diamond(2)\n",
        "print()\n",
        "diamond(9)\n",
        "print()\n",
        "diamond(16)"
      ]
    },
    {
      "cell_type": "markdown",
      "id": "g-c0DYh0vqRH",
      "metadata": {
        "id": "g-c0DYh0vqRH"
      },
      "source": [
        "## 6. Tuple\n",
        "Given two list of tuples, write a Python program to update ‘list1’ according to the ‘list2’ and return an updated list.\n",
        "\n",
        "Examples:\n",
        "\n",
        "Input : list1 = [('x', 0), ('y', 5)]\n",
        "\n",
        "list2 = [('x', 100), ('y', 200)]\n",
        "\n",
        "Output : [('x', 100), ('y', 200)]\n",
        "\n",
        "Input : list1 = [('a', 0), ('b', 0), ('c', 0)]\n",
        "\n",
        "list2 = [('a', 1), ('b', 2)]\n",
        "\n",
        "Output :[('a', 1), ('b', 2), ('c', 0)]"
      ]
    },
    {
      "cell_type": "code",
      "execution_count": 38,
      "id": "D5PiHsMGv9Kj",
      "metadata": {
        "colab": {
          "base_uri": "https://localhost:8080/"
        },
        "id": "D5PiHsMGv9Kj",
        "outputId": "52fe338b-ee97-4fa1-a2cc-7b67fb1d051a"
      },
      "outputs": [
        {
          "data": {
            "text/plain": [
              "[('x', 100), ('y', 200)]"
            ]
          },
          "execution_count": 38,
          "metadata": {},
          "output_type": "execute_result"
        }
      ],
      "source": [
        "def update_list(list1, list2):\n",
        "  dict1 = dict(list1)\n",
        "  dict2 = dict(list2)\n",
        "  for key, value in list1:\n",
        "    if key in dict2:\n",
        "      dict1[key] = dict2[key]\n",
        "  return list(zip(dict1.keys(),dict1.values()))\n",
        "\n",
        "update_list([('x', 0), ('y', 5)],[('x', 100), ('y', 200)])"
      ]
    },
    {
      "cell_type": "markdown",
      "id": "znjZAidelw1T",
      "metadata": {
        "id": "znjZAidelw1T"
      },
      "source": [
        "## 7. Reduce\n",
        "\n",
        "Use *reduce* method to calculate the factorial n (n!)"
      ]
    },
    {
      "cell_type": "code",
      "execution_count": 41,
      "id": "V1EbvGqnmPpL",
      "metadata": {
        "colab": {
          "base_uri": "https://localhost:8080/"
        },
        "id": "V1EbvGqnmPpL",
        "outputId": "dd340a66-a4fa-460b-f80d-f75f569f9f88"
      },
      "outputs": [
        {
          "data": {
            "text/plain": [
              "120"
            ]
          },
          "execution_count": 41,
          "metadata": {},
          "output_type": "execute_result"
        }
      ],
      "source": [
        "from functools import reduce\n",
        "def factorial(n):\n",
        "  if n < 1:\n",
        "    return \"Value must be at least 1\"\n",
        "  return reduce(lambda x, y: x*y, range(1,n+1))\n",
        "\n",
        "factorial(5)"
      ]
    },
    {
      "cell_type": "markdown",
      "id": "tO9VtNcuzhas",
      "metadata": {
        "id": "tO9VtNcuzhas"
      },
      "source": [
        "## 8. Decorator\n",
        " Write a Python program that implements a decorator to handle exceptions raised by a function and provide a default response.\n",
        "\n",
        " For example:\n",
        "\n",
        " When x/y and y=0, print \"Default response: An error occurred.\" instead of raising an error."
      ]
    },
    {
      "cell_type": "code",
      "execution_count": 43,
      "id": "NW0wlIPwo1qi",
      "metadata": {
        "colab": {
          "base_uri": "https://localhost:8080/"
        },
        "id": "NW0wlIPwo1qi",
        "outputId": "5228dca9-4ed8-498e-a098-ce48dfcf0895"
      },
      "outputs": [
        {
          "name": "stdout",
          "output_type": "stream",
          "text": [
            "Default response: An error occurred.\n",
            "3.0\n",
            "Default response: An error occurred.\n"
          ]
        }
      ],
      "source": [
        "def decorate_1(old_func):\n",
        "  def func(*args, **kwargs):\n",
        "    try:\n",
        "      old_func(*args, **kwargs)\n",
        "    except Exception:\n",
        "      print (\"Default response: An error occurred.\")\n",
        "  return func\n",
        "\n",
        "@decorate_1\n",
        "def divide(x,y):\n",
        "  print(x/y)\n",
        "\n",
        "divide(8,0)\n",
        "divide(9,3)\n",
        "\n",
        "@decorate_1\n",
        "def addition(x,y,z):\n",
        "  print(x+y+z)\n",
        "\n",
        "addition(1,2,\"shrey\")"
      ]
    },
    {
      "cell_type": "markdown",
      "id": "LK9eqRuNNpJd",
      "metadata": {
        "id": "LK9eqRuNNpJd"
      },
      "source": [
        "## 9. Decorator\n",
        "\n",
        "Write a decorator to decorate the result of \"to print\" with 10 * above and below.\n",
        "\n",
        "For example:\n",
        "\n",
        "\\*******************\\****************\\***********\\\n",
        "to print\\\n",
        "\\*******************\\****************\\***"
      ]
    },
    {
      "cell_type": "code",
      "execution_count": null,
      "id": "XiUiRwaGo32p",
      "metadata": {
        "colab": {
          "base_uri": "https://localhost:8080/"
        },
        "id": "XiUiRwaGo32p",
        "outputId": "58a202b8-adfc-46db-dc11-e3f8c7fdd058"
      },
      "outputs": [
        {
          "name": "stdout",
          "output_type": "stream",
          "text": [
            "**********\n",
            "to print\n",
            "**********\n"
          ]
        }
      ],
      "source": [
        "def decorate_2(old_func):\n",
        "    def func(*args, **kwargs):\n",
        "      print('*' * 10)\n",
        "      old_func(*args, **kwargs)\n",
        "      print('*' * 10)\n",
        "    return func\n",
        "\n",
        "@decorate_2\n",
        "def to_print():\n",
        "  print(\"to print\")\n",
        "\n",
        "to_print()"
      ]
    },
    {
      "cell_type": "markdown",
      "id": "XGWQdanoPPLo",
      "metadata": {
        "id": "XGWQdanoPPLo"
      },
      "source": [
        "## 10. Class\n",
        "\n",
        "Write a Python class Employee with attributes like emp_id, emp_name, emp_salary, and emp_department and methods like calculate_emp_salary, emp_assign_department.\n",
        "\n",
        "Sample Employee Data:\n",
        "\n",
        "\"ADAMS\", \"E7876\", 50000, \"ACCOUNTING\"\\\n",
        "\"JONES\", \"E7499\", 45000, \"RESEARCH\"\\\n",
        "\"MARTIN\", \"E7900\", 50000, \"SALES\"\\\n",
        "\"SMITH\", \"E7698\", 55000, \"OPERATIONS\"\\\n",
        "Use '\\_\\_str\\_\\_' to print the information of this object.   \\\n",
        "Use 'assign_department' method to change the department of an employee.\\\n",
        "Use 'calculate_emp_salary' method takes two arguments: salary and hours_worked, which is the number of hours worked by the employee. If the number of hours worked is more than 50, the method computes overtime and adds it to the salary.\n",
        "\n",
        "Overtime is calculated as following formula:\\\n",
        "overtime = hours_worked - 50\\\n",
        "Overtime amount = (overtime * (salary / 50))"
      ]
    },
    {
      "cell_type": "code",
      "execution_count": 46,
      "id": "eGfm38Kro6nO",
      "metadata": {
        "colab": {
          "base_uri": "https://localhost:8080/"
        },
        "id": "eGfm38Kro6nO",
        "outputId": "4caa59e8-bff5-4684-a53c-9d9d1c831832"
      },
      "outputs": [
        {
          "name": "stdout",
          "output_type": "stream",
          "text": [
            "Employee E7876's name is Adams and they work in the Accounting department with a salary of 50000.\n",
            "Employee E7499's name is Jones and they work in the Research department with a salary of 45000.\n",
            "Employee E7900's name is Martin and they work in the Sales department with a salary of 50000.\n",
            "Employee E7698's name is Smith and they work in the Operations department with a salary of 55000.\n",
            "Employee E7876's name is Adams and they work in the Finance department with a salary of 50000.\n",
            "Employee E7876's name is Adams and they work in the Finance department with a salary of 50000.\n",
            "Employee E7876's name is Adams and they work in the Finance department with a salary of 57000.\n"
          ]
        }
      ],
      "source": [
        "class Employee:\n",
        "\n",
        "  def __init__(self, emp_name, emp_id, emp_salary, emp_department):\n",
        "    self.emp_id = emp_id\n",
        "    self.emp_name = emp_name\n",
        "    self.emp_salary = emp_salary\n",
        "    self.emp_department = emp_department\n",
        "\n",
        "  def __str__(self):\n",
        "    information = f'Employee {self.emp_id}\\'s name is {self.emp_name.title()} and they work in the {self.emp_department.title()} department with a salary of {self.emp_salary}.'\n",
        "    return information\n",
        "\n",
        "  def assign_department(self, new_dept):\n",
        "    if isinstance(new_dept, str):\n",
        "      self.emp_department = new_dept\n",
        "    else:\n",
        "      raise ValueError(\"Incorrect Input Type\")\n",
        "\n",
        "  def calculate_emp_salary(self, salary, hours_worked):\n",
        "    self.emp_salary = salary\n",
        "    if hours_worked > 50:\n",
        "      overtime = hours_worked - 50\n",
        "      self.emp_salary += int(overtime * (salary / 50))\n",
        "\n",
        "adams = Employee(\"ADAMS\", \"E7876\", 50000, \"ACCOUNTING\")\n",
        "jones = Employee(\"JONES\", \"E7499\", 45000, \"RESEARCH\")\n",
        "martin = Employee(\"MARTIN\", \"E7900\", 50000, \"SALES\")\n",
        "smith = Employee(\"SMITH\", \"E7698\", 55000, \"OPERATIONS\")\n",
        "print(adams, jones, martin, smith, sep=\"\\n\")\n",
        "adams.assign_department(\"FINANCE\")\n",
        "print(adams)\n",
        "adams.calculate_emp_salary(50000, 30)\n",
        "print(adams)\n",
        "adams.calculate_emp_salary(50000, 57)\n",
        "print(adams)\n"
      ]
    }
  ],
  "metadata": {
    "colab": {
      "provenance": []
    },
    "kernelspec": {
      "display_name": "Python 3.10.6 64-bit",
      "language": "python",
      "name": "python3"
    },
    "language_info": {
      "codemirror_mode": {
        "name": "ipython",
        "version": 3
      },
      "file_extension": ".py",
      "mimetype": "text/x-python",
      "name": "python",
      "nbconvert_exporter": "python",
      "pygments_lexer": "ipython3",
      "version": "3.10.6"
    },
    "vscode": {
      "interpreter": {
        "hash": "aee8b7b246df8f9039afb4144a1f6fd8d2ca17a180786b69acc140d282b71a49"
      }
    }
  },
  "nbformat": 4,
  "nbformat_minor": 5
}
